{
 "cells": [
  {
   "cell_type": "markdown",
   "metadata": {},
   "source": [
    "## Quantile and Box plot"
   ]
  },
  {
   "cell_type": "code",
   "execution_count": 1,
   "metadata": {},
   "outputs": [],
   "source": [
    "# we will be using the quantile method of the numpy library\n",
    "import numpy as np"
   ]
  },
  {
   "cell_type": "code",
   "execution_count": 24,
   "metadata": {},
   "outputs": [
    {
     "data": {
      "text/plain": [
       "[np.float64(7.871853160627393),\n",
       " np.float64(10.557584994843888),\n",
       " np.float64(10.499793113870174),\n",
       " np.float64(6.251840377586646),\n",
       " np.float64(2.025896196355225),\n",
       " np.float64(11.329267258657982),\n",
       " np.float64(5.74014201419074),\n",
       " np.float64(5.784464509624101),\n",
       " np.float64(11.411595156506005),\n",
       " np.float64(11.592668571540859),\n",
       " np.float64(9.503696195419057),\n",
       " np.float64(9.867829622166083),\n",
       " np.float64(8.319205166819543),\n",
       " np.float64(12.16632114619343),\n",
       " np.float64(9.66960968466746),\n",
       " np.float64(13.742140511789838),\n",
       " np.float64(1.9035328000256646),\n",
       " np.float64(15.982976013841295),\n",
       " np.float64(4.464631423549521),\n",
       " np.float64(4.503311895231801),\n",
       " np.float64(8.632047872769803),\n",
       " np.float64(12.169206131672194),\n",
       " np.float64(12.604570052829828),\n",
       " np.float64(4.518895349079491),\n",
       " np.float64(21.109442109854548)]"
      ]
     },
     "execution_count": 24,
     "metadata": {},
     "output_type": "execute_result"
    }
   ],
   "source": [
    "data = list(np.random.normal(9, 5, size = 25))\n",
    "data"
   ]
  },
  {
   "cell_type": "code",
   "execution_count": 25,
   "metadata": {},
   "outputs": [],
   "source": [
    "minm, q1, median, q3, maxm = list(np.quantile(data, q = [0, #Min\n",
    "                        0.25, # q1\n",
    "                        0.5, #Median\n",
    "                        0.75, #q3\n",
    "                        1   #Max\n",
    "                        ]))"
   ]
  },
  {
   "cell_type": "code",
   "execution_count": 26,
   "metadata": {},
   "outputs": [
    {
     "data": {
      "text/plain": [
       "(np.float64(1.9035328000256646),\n",
       " np.float64(5.784464509624101),\n",
       " np.float64(9.66960968466746),\n",
       " np.float64(11.592668571540859),\n",
       " np.float64(21.109442109854548))"
      ]
     },
     "execution_count": 26,
     "metadata": {},
     "output_type": "execute_result"
    }
   ],
   "source": [
    "minm, q1, median, q3, maxm"
   ]
  },
  {
   "cell_type": "code",
   "execution_count": 27,
   "metadata": {},
   "outputs": [
    {
     "data": {
      "text/plain": [
       "np.float64(5.808204061916758)"
      ]
     },
     "execution_count": 27,
     "metadata": {},
     "output_type": "execute_result"
    }
   ],
   "source": [
    "IQR = q3 - q1\n",
    "IQR"
   ]
  },
  {
   "cell_type": "code",
   "execution_count": 28,
   "metadata": {},
   "outputs": [
    {
     "data": {
      "text/plain": [
       "(np.float64(20.304974664415994), np.float64(-2.927841583251036))"
      ]
     },
     "execution_count": 28,
     "metadata": {},
     "output_type": "execute_result"
    }
   ],
   "source": [
    "higher_fence = q1 - 1.5 * (IQR)\n",
    "lower_fence = q3 + 1.5 * (IQR)\n",
    "\n",
    "#This is the general formula or the method to determine when a number can be considered as an outlier\n",
    "# Any sample point of the data which are outside this upper and lower limits will be considered as an outlier\n",
    "\n",
    "(lower_fence, higher_fence)"
   ]
  },
  {
   "cell_type": "code",
   "execution_count": 29,
   "metadata": {},
   "outputs": [
    {
     "name": "stdout",
     "output_type": "stream",
     "text": [
      "Requirement already satisfied: seaborn in c:\\users\\user\\desktop\\programming journey\\data science genai\\machine learning\\myenv\\lib\\site-packages (0.13.2)\n",
      "Requirement already satisfied: numpy!=1.24.0,>=1.20 in c:\\users\\user\\desktop\\programming journey\\data science genai\\machine learning\\myenv\\lib\\site-packages (from seaborn) (2.2.1)\n",
      "Requirement already satisfied: pandas>=1.2 in c:\\users\\user\\desktop\\programming journey\\data science genai\\machine learning\\myenv\\lib\\site-packages (from seaborn) (2.2.3)\n",
      "Requirement already satisfied: matplotlib!=3.6.1,>=3.4 in c:\\users\\user\\desktop\\programming journey\\data science genai\\machine learning\\myenv\\lib\\site-packages (from seaborn) (3.10.0)\n",
      "Requirement already satisfied: contourpy>=1.0.1 in c:\\users\\user\\desktop\\programming journey\\data science genai\\machine learning\\myenv\\lib\\site-packages (from matplotlib!=3.6.1,>=3.4->seaborn) (1.3.1)\n",
      "Requirement already satisfied: cycler>=0.10 in c:\\users\\user\\desktop\\programming journey\\data science genai\\machine learning\\myenv\\lib\\site-packages (from matplotlib!=3.6.1,>=3.4->seaborn) (0.12.1)\n",
      "Requirement already satisfied: fonttools>=4.22.0 in c:\\users\\user\\desktop\\programming journey\\data science genai\\machine learning\\myenv\\lib\\site-packages (from matplotlib!=3.6.1,>=3.4->seaborn) (4.55.3)\n",
      "Requirement already satisfied: kiwisolver>=1.3.1 in c:\\users\\user\\desktop\\programming journey\\data science genai\\machine learning\\myenv\\lib\\site-packages (from matplotlib!=3.6.1,>=3.4->seaborn) (1.4.8)\n",
      "Requirement already satisfied: packaging>=20.0 in c:\\users\\user\\desktop\\programming journey\\data science genai\\machine learning\\myenv\\lib\\site-packages (from matplotlib!=3.6.1,>=3.4->seaborn) (24.2)\n",
      "Requirement already satisfied: pillow>=8 in c:\\users\\user\\desktop\\programming journey\\data science genai\\machine learning\\myenv\\lib\\site-packages (from matplotlib!=3.6.1,>=3.4->seaborn) (11.1.0)\n",
      "Requirement already satisfied: pyparsing>=2.3.1 in c:\\users\\user\\desktop\\programming journey\\data science genai\\machine learning\\myenv\\lib\\site-packages (from matplotlib!=3.6.1,>=3.4->seaborn) (3.2.1)\n",
      "Requirement already satisfied: python-dateutil>=2.7 in c:\\users\\user\\desktop\\programming journey\\data science genai\\machine learning\\myenv\\lib\\site-packages (from matplotlib!=3.6.1,>=3.4->seaborn) (2.9.0.post0)\n",
      "Requirement already satisfied: pytz>=2020.1 in c:\\users\\user\\desktop\\programming journey\\data science genai\\machine learning\\myenv\\lib\\site-packages (from pandas>=1.2->seaborn) (2024.2)\n",
      "Requirement already satisfied: tzdata>=2022.7 in c:\\users\\user\\desktop\\programming journey\\data science genai\\machine learning\\myenv\\lib\\site-packages (from pandas>=1.2->seaborn) (2024.2)\n",
      "Requirement already satisfied: six>=1.5 in c:\\users\\user\\desktop\\programming journey\\data science genai\\machine learning\\myenv\\lib\\site-packages (from python-dateutil>=2.7->matplotlib!=3.6.1,>=3.4->seaborn) (1.17.0)\n",
      "Note: you may need to restart the kernel to use updated packages.\n"
     ]
    }
   ],
   "source": [
    "# BOX PLOT\n",
    "\n",
    "%pip install seaborn"
   ]
  },
  {
   "cell_type": "code",
   "execution_count": 30,
   "metadata": {},
   "outputs": [],
   "source": [
    "import seaborn as sns"
   ]
  },
  {
   "cell_type": "code",
   "execution_count": 31,
   "metadata": {},
   "outputs": [
    {
     "data": {
      "text/plain": [
       "<Axes: >"
      ]
     },
     "execution_count": 31,
     "metadata": {},
     "output_type": "execute_result"
    },
    {
     "data": {
      "image/png": "[encoded data removed]",
      "text/plain": [
       "<Figure size 640x480 with 1 Axes>"
      ]
     },
     "metadata": {},
     "output_type": "display_data"
    }
   ],
   "source": [
    "sns.boxplot(data)"
   ]
  },
  {
   "cell_type": "code",
   "execution_count": 32,
   "metadata": {},
   "outputs": [
    {
     "data": {
      "text/plain": [
       "list"
      ]
     },
     "execution_count": 32,
     "metadata": {},
     "output_type": "execute_result"
    }
   ],
   "source": [
    "type(data)"
   ]
  },
  {
   "cell_type": "code",
   "execution_count": null,
   "metadata": {},
   "outputs": [
    {
     "data": {
      "text/plain": [
       "<Axes: >"
      ]
     },
     "execution_count": 33,
     "metadata": {},
     "output_type": "execute_result"
    },
    {
     "data": {
      "image/png": "[encoded data removed]",
      "text/plain": [
       "<Figure size 640x480 with 1 Axes>"
      ]
     },
     "metadata": {},
     "output_type": "display_data"
    }
   ],
   "source": [
    "data2 = data + [50, -50, -5, 40]        #added some values which will be outliers\n",
    "sns.boxplot(data2)"
   ]
  },
  {
   "cell_type": "code",
   "execution_count": null,
   "metadata": {},
   "outputs": [],
   "source": [
    "# this quantiles also called the 5 number summary"
   ]
  }
 ],
 "metadata": {
  "kernelspec": {
   "display_name": "Python 3",
   "language": "python",
   "name": "python3"
  },
  "language_info": {
   "codemirror_mode": {
    "name": "ipython",
    "version": 3
   },
   "file_extension": ".py",
   "mimetype": "text/x-python",
   "name": "python",
   "nbconvert_exporter": "python",
   "pygments_lexer": "ipython3",
   "version": "3.12.8"
  }
 },
 "nbformat": 4,
 "nbformat_minor": 2
}
