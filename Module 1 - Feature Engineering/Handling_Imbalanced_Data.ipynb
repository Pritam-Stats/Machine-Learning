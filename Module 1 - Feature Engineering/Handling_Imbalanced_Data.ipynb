{
  "cells": [
    {
      "cell_type": "markdown",
      "metadata": {
        "id": "UM47IKSmY9Tw"
      },
      "source": [
        "# Handling Imbalanced Data"
      ]
    },
    {
      "cell_type": "code",
      "execution_count": 4,
      "metadata": {
        "id": "vbFXTJC5XPEJ"
      },
      "outputs": [],
      "source": [
        "import numpy as np # type: ignore\n",
        "import pandas as pd # type: ignore"
      ]
    },
    {
      "cell_type": "markdown",
      "metadata": {
        "id": "cvgX3FBcbegS"
      },
      "source": [
        "## Making the dataset"
      ]
    },
    {
      "cell_type": "code",
      "execution_count": 5,
      "metadata": {
        "id": "lvAb3hONYeo1"
      },
      "outputs": [
        {
          "data": {
            "text/plain": [
              "(900, 100)"
            ]
          },
          "execution_count": 5,
          "metadata": {},
          "output_type": "execute_result"
        }
      ],
      "source": [
        "#setting a seed\n",
        "np.random.seed(912)\n",
        "\n",
        "#creating a df with two categories\n",
        "\n",
        "n = 1000        #total sample\n",
        "\n",
        "#category split is 9:1. category 0 has 900 samples other has 100\n",
        "c0_ratio = 0.9\n",
        "\n",
        "nc0= int(n * c0_ratio) #category 0 sample points\n",
        "\n",
        "nc1 = n - nc0       ##category 1 sample points\n",
        "(nc0, nc1)"
      ]
    },
    {
      "cell_type": "code",
      "execution_count": 6,
      "metadata": {
        "id": "HNbXEDuCa9mR"
      },
      "outputs": [],
      "source": [
        "category0 = pd.DataFrame({\n",
        "    \"feature1\" : np.random.normal(0,1, nc0),\n",
        "    \"feature2\" : np.random.normal(0,1, nc0),\n",
        "    \"target\" : [0] * nc0\n",
        "})\n",
        "\n",
        "category1 = pd.DataFrame({\n",
        "    \"feature1\" : np.random.normal(0,1, nc1),\n",
        "    \"feature2\" : np.random.normal(0,1, nc1),\n",
        "    \"target\" : [1] * nc1\n",
        "})"
      ]
    },
    {
      "cell_type": "code",
      "execution_count": 7,
      "metadata": {
        "colab": {
          "base_uri": "https://localhost:8080/",
          "height": 423
        },
        "id": "j2aIVSL_cicV",
        "outputId": "79c2ab0c-996e-48f3-d1bc-5b10f91ff10d"
      },
      "outputs": [
        {
          "data": {
            "text/html": [
              "<div>\n",
              "<style scoped>\n",
              "    .dataframe tbody tr th:only-of-type {\n",
              "        vertical-align: middle;\n",
              "    }\n",
              "\n",
              "    .dataframe tbody tr th {\n",
              "        vertical-align: top;\n",
              "    }\n",
              "\n",
              "    .dataframe thead th {\n",
              "        text-align: right;\n",
              "    }\n",
              "</style>\n",
              "<table border=\"1\" class=\"dataframe\">\n",
              "  <thead>\n",
              "    <tr style=\"text-align: right;\">\n",
              "      <th></th>\n",
              "      <th>feature1</th>\n",
              "      <th>feature2</th>\n",
              "      <th>target</th>\n",
              "    </tr>\n",
              "  </thead>\n",
              "  <tbody>\n",
              "    <tr>\n",
              "      <th>0</th>\n",
              "      <td>-0.213950</td>\n",
              "      <td>0.197360</td>\n",
              "      <td>0</td>\n",
              "    </tr>\n",
              "    <tr>\n",
              "      <th>1</th>\n",
              "      <td>1.888450</td>\n",
              "      <td>1.847285</td>\n",
              "      <td>0</td>\n",
              "    </tr>\n",
              "    <tr>\n",
              "      <th>2</th>\n",
              "      <td>-0.672371</td>\n",
              "      <td>-0.926437</td>\n",
              "      <td>0</td>\n",
              "    </tr>\n",
              "    <tr>\n",
              "      <th>3</th>\n",
              "      <td>0.256054</td>\n",
              "      <td>-0.382164</td>\n",
              "      <td>0</td>\n",
              "    </tr>\n",
              "    <tr>\n",
              "      <th>4</th>\n",
              "      <td>-1.126118</td>\n",
              "      <td>-0.593033</td>\n",
              "      <td>0</td>\n",
              "    </tr>\n",
              "    <tr>\n",
              "      <th>...</th>\n",
              "      <td>...</td>\n",
              "      <td>...</td>\n",
              "      <td>...</td>\n",
              "    </tr>\n",
              "    <tr>\n",
              "      <th>95</th>\n",
              "      <td>0.774179</td>\n",
              "      <td>-0.677380</td>\n",
              "      <td>1</td>\n",
              "    </tr>\n",
              "    <tr>\n",
              "      <th>96</th>\n",
              "      <td>-0.986109</td>\n",
              "      <td>0.568897</td>\n",
              "      <td>1</td>\n",
              "    </tr>\n",
              "    <tr>\n",
              "      <th>97</th>\n",
              "      <td>0.074162</td>\n",
              "      <td>-1.317835</td>\n",
              "      <td>1</td>\n",
              "    </tr>\n",
              "    <tr>\n",
              "      <th>98</th>\n",
              "      <td>-1.490417</td>\n",
              "      <td>-1.334180</td>\n",
              "      <td>1</td>\n",
              "    </tr>\n",
              "    <tr>\n",
              "      <th>99</th>\n",
              "      <td>1.037309</td>\n",
              "      <td>-0.147361</td>\n",
              "      <td>1</td>\n",
              "    </tr>\n",
              "  </tbody>\n",
              "</table>\n",
              "<p>1000 rows × 3 columns</p>\n",
              "</div>"
            ],
            "text/plain": [
              "    feature1  feature2  target\n",
              "0  -0.213950  0.197360       0\n",
              "1   1.888450  1.847285       0\n",
              "2  -0.672371 -0.926437       0\n",
              "3   0.256054 -0.382164       0\n",
              "4  -1.126118 -0.593033       0\n",
              "..       ...       ...     ...\n",
              "95  0.774179 -0.677380       1\n",
              "96 -0.986109  0.568897       1\n",
              "97  0.074162 -1.317835       1\n",
              "98 -1.490417 -1.334180       1\n",
              "99  1.037309 -0.147361       1\n",
              "\n",
              "[1000 rows x 3 columns]"
            ]
          },
          "execution_count": 7,
          "metadata": {},
          "output_type": "execute_result"
        }
      ],
      "source": [
        "imbalanced_df = pd.concat([category0, category1], axis = 0)     #will concatenate by the columns means new rows will be added\n",
        "\n",
        "imbalanced_df       #since we didn't include reset_index method this will have the index 0 to 899 then again 0 to 99"
      ]
    },
    {
      "cell_type": "code",
      "execution_count": 8,
      "metadata": {
        "colab": {
          "base_uri": "https://localhost:8080/",
          "height": 423
        },
        "id": "Ioj9ZtXtdTqd",
        "outputId": "7b0df8c7-af86-41da-f97a-1e451232de2e"
      },
      "outputs": [
        {
          "data": {
            "text/html": [
              "<div>\n",
              "<style scoped>\n",
              "    .dataframe tbody tr th:only-of-type {\n",
              "        vertical-align: middle;\n",
              "    }\n",
              "\n",
              "    .dataframe tbody tr th {\n",
              "        vertical-align: top;\n",
              "    }\n",
              "\n",
              "    .dataframe thead th {\n",
              "        text-align: right;\n",
              "    }\n",
              "</style>\n",
              "<table border=\"1\" class=\"dataframe\">\n",
              "  <thead>\n",
              "    <tr style=\"text-align: right;\">\n",
              "      <th></th>\n",
              "      <th>feature1</th>\n",
              "      <th>feature2</th>\n",
              "      <th>target</th>\n",
              "    </tr>\n",
              "  </thead>\n",
              "  <tbody>\n",
              "    <tr>\n",
              "      <th>0</th>\n",
              "      <td>-0.213950</td>\n",
              "      <td>0.197360</td>\n",
              "      <td>0</td>\n",
              "    </tr>\n",
              "    <tr>\n",
              "      <th>1</th>\n",
              "      <td>1.888450</td>\n",
              "      <td>1.847285</td>\n",
              "      <td>0</td>\n",
              "    </tr>\n",
              "    <tr>\n",
              "      <th>2</th>\n",
              "      <td>-0.672371</td>\n",
              "      <td>-0.926437</td>\n",
              "      <td>0</td>\n",
              "    </tr>\n",
              "    <tr>\n",
              "      <th>3</th>\n",
              "      <td>0.256054</td>\n",
              "      <td>-0.382164</td>\n",
              "      <td>0</td>\n",
              "    </tr>\n",
              "    <tr>\n",
              "      <th>4</th>\n",
              "      <td>-1.126118</td>\n",
              "      <td>-0.593033</td>\n",
              "      <td>0</td>\n",
              "    </tr>\n",
              "    <tr>\n",
              "      <th>...</th>\n",
              "      <td>...</td>\n",
              "      <td>...</td>\n",
              "      <td>...</td>\n",
              "    </tr>\n",
              "    <tr>\n",
              "      <th>995</th>\n",
              "      <td>0.774179</td>\n",
              "      <td>-0.677380</td>\n",
              "      <td>1</td>\n",
              "    </tr>\n",
              "    <tr>\n",
              "      <th>996</th>\n",
              "      <td>-0.986109</td>\n",
              "      <td>0.568897</td>\n",
              "      <td>1</td>\n",
              "    </tr>\n",
              "    <tr>\n",
              "      <th>997</th>\n",
              "      <td>0.074162</td>\n",
              "      <td>-1.317835</td>\n",
              "      <td>1</td>\n",
              "    </tr>\n",
              "    <tr>\n",
              "      <th>998</th>\n",
              "      <td>-1.490417</td>\n",
              "      <td>-1.334180</td>\n",
              "      <td>1</td>\n",
              "    </tr>\n",
              "    <tr>\n",
              "      <th>999</th>\n",
              "      <td>1.037309</td>\n",
              "      <td>-0.147361</td>\n",
              "      <td>1</td>\n",
              "    </tr>\n",
              "  </tbody>\n",
              "</table>\n",
              "<p>1000 rows × 3 columns</p>\n",
              "</div>"
            ],
            "text/plain": [
              "     feature1  feature2  target\n",
              "0   -0.213950  0.197360       0\n",
              "1    1.888450  1.847285       0\n",
              "2   -0.672371 -0.926437       0\n",
              "3    0.256054 -0.382164       0\n",
              "4   -1.126118 -0.593033       0\n",
              "..        ...       ...     ...\n",
              "995  0.774179 -0.677380       1\n",
              "996 -0.986109  0.568897       1\n",
              "997  0.074162 -1.317835       1\n",
              "998 -1.490417 -1.334180       1\n",
              "999  1.037309 -0.147361       1\n",
              "\n",
              "[1000 rows x 3 columns]"
            ]
          },
          "execution_count": 8,
          "metadata": {},
          "output_type": "execute_result"
        }
      ],
      "source": [
        "imbalanced_df.reset_index(drop = True)      #reset the index from 0 to 999"
      ]
    },
    {
      "cell_type": "code",
      "execution_count": 9,
      "metadata": {
        "colab": {
          "base_uri": "https://localhost:8080/",
          "height": 178
        },
        "id": "PJOAdhiZdWI3",
        "outputId": "f831542f-5a38-471b-886a-4bf84c0d0189"
      },
      "outputs": [
        {
          "data": {
            "text/plain": [
              "target\n",
              "0    900\n",
              "1    100\n",
              "Name: count, dtype: int64"
            ]
          },
          "execution_count": 9,
          "metadata": {},
          "output_type": "execute_result"
        }
      ],
      "source": [
        "imbalanced_df[\"target\"].value_counts()"
      ]
    },
    {
      "cell_type": "markdown",
      "metadata": {
        "id": "PQekLpIQoHBT"
      },
      "source": [
        "### Upsampling or Over-Sampling\n",
        "\n",
        "\n",
        "> It's a Resampling technique used for handling imbalanced data. Theory can be learnt from Statistical Sample survey books.\n",
        "\n",
        "\n",
        "The process to increase the lesser sample category to the same no"
      ]
    },
    {
      "cell_type": "code",
      "execution_count": 10,
      "metadata": {
        "colab": {
          "base_uri": "https://localhost:8080/",
          "height": 423
        },
        "id": "l5k9_ksjolR7",
        "outputId": "512af04c-47a4-44a2-fa28-3cb2d301a210"
      },
      "outputs": [
        {
          "data": {
            "text/html": [
              "<div>\n",
              "<style scoped>\n",
              "    .dataframe tbody tr th:only-of-type {\n",
              "        vertical-align: middle;\n",
              "    }\n",
              "\n",
              "    .dataframe tbody tr th {\n",
              "        vertical-align: top;\n",
              "    }\n",
              "\n",
              "    .dataframe thead th {\n",
              "        text-align: right;\n",
              "    }\n",
              "</style>\n",
              "<table border=\"1\" class=\"dataframe\">\n",
              "  <thead>\n",
              "    <tr style=\"text-align: right;\">\n",
              "      <th></th>\n",
              "      <th>feature1</th>\n",
              "      <th>feature2</th>\n",
              "      <th>target</th>\n",
              "    </tr>\n",
              "  </thead>\n",
              "  <tbody>\n",
              "    <tr>\n",
              "      <th>0</th>\n",
              "      <td>1.675497</td>\n",
              "      <td>-0.673460</td>\n",
              "      <td>1</td>\n",
              "    </tr>\n",
              "    <tr>\n",
              "      <th>1</th>\n",
              "      <td>-1.162210</td>\n",
              "      <td>-1.367434</td>\n",
              "      <td>1</td>\n",
              "    </tr>\n",
              "    <tr>\n",
              "      <th>2</th>\n",
              "      <td>-1.936614</td>\n",
              "      <td>-0.189571</td>\n",
              "      <td>1</td>\n",
              "    </tr>\n",
              "    <tr>\n",
              "      <th>3</th>\n",
              "      <td>1.294086</td>\n",
              "      <td>1.137439</td>\n",
              "      <td>1</td>\n",
              "    </tr>\n",
              "    <tr>\n",
              "      <th>4</th>\n",
              "      <td>2.698395</td>\n",
              "      <td>1.557538</td>\n",
              "      <td>1</td>\n",
              "    </tr>\n",
              "    <tr>\n",
              "      <th>...</th>\n",
              "      <td>...</td>\n",
              "      <td>...</td>\n",
              "      <td>...</td>\n",
              "    </tr>\n",
              "    <tr>\n",
              "      <th>95</th>\n",
              "      <td>0.774179</td>\n",
              "      <td>-0.677380</td>\n",
              "      <td>1</td>\n",
              "    </tr>\n",
              "    <tr>\n",
              "      <th>96</th>\n",
              "      <td>-0.986109</td>\n",
              "      <td>0.568897</td>\n",
              "      <td>1</td>\n",
              "    </tr>\n",
              "    <tr>\n",
              "      <th>97</th>\n",
              "      <td>0.074162</td>\n",
              "      <td>-1.317835</td>\n",
              "      <td>1</td>\n",
              "    </tr>\n",
              "    <tr>\n",
              "      <th>98</th>\n",
              "      <td>-1.490417</td>\n",
              "      <td>-1.334180</td>\n",
              "      <td>1</td>\n",
              "    </tr>\n",
              "    <tr>\n",
              "      <th>99</th>\n",
              "      <td>1.037309</td>\n",
              "      <td>-0.147361</td>\n",
              "      <td>1</td>\n",
              "    </tr>\n",
              "  </tbody>\n",
              "</table>\n",
              "<p>100 rows × 3 columns</p>\n",
              "</div>"
            ],
            "text/plain": [
              "    feature1  feature2  target\n",
              "0   1.675497 -0.673460       1\n",
              "1  -1.162210 -1.367434       1\n",
              "2  -1.936614 -0.189571       1\n",
              "3   1.294086  1.137439       1\n",
              "4   2.698395  1.557538       1\n",
              "..       ...       ...     ...\n",
              "95  0.774179 -0.677380       1\n",
              "96 -0.986109  0.568897       1\n",
              "97  0.074162 -1.317835       1\n",
              "98 -1.490417 -1.334180       1\n",
              "99  1.037309 -0.147361       1\n",
              "\n",
              "[100 rows x 3 columns]"
            ]
          },
          "execution_count": 10,
          "metadata": {},
          "output_type": "execute_result"
        }
      ],
      "source": [
        "df_minority = imbalanced_df[imbalanced_df['target'] == 1]\n",
        "df_majority = imbalanced_df[imbalanced_df['target'] == 0]\n",
        "df_minority"
      ]
    },
    {
      "cell_type": "code",
      "execution_count": 11,
      "metadata": {
        "colab": {
          "base_uri": "https://localhost:8080/",
          "height": 423
        },
        "id": "dlWL9uNipQR5",
        "outputId": "b2f0341a-cef1-41d0-f95f-2f7afe1f0ff6"
      },
      "outputs": [
        {
          "data": {
            "text/html": [
              "<div>\n",
              "<style scoped>\n",
              "    .dataframe tbody tr th:only-of-type {\n",
              "        vertical-align: middle;\n",
              "    }\n",
              "\n",
              "    .dataframe tbody tr th {\n",
              "        vertical-align: top;\n",
              "    }\n",
              "\n",
              "    .dataframe thead th {\n",
              "        text-align: right;\n",
              "    }\n",
              "</style>\n",
              "<table border=\"1\" class=\"dataframe\">\n",
              "  <thead>\n",
              "    <tr style=\"text-align: right;\">\n",
              "      <th></th>\n",
              "      <th>feature1</th>\n",
              "      <th>feature2</th>\n",
              "      <th>target</th>\n",
              "    </tr>\n",
              "  </thead>\n",
              "  <tbody>\n",
              "    <tr>\n",
              "      <th>0</th>\n",
              "      <td>-0.213950</td>\n",
              "      <td>0.197360</td>\n",
              "      <td>0</td>\n",
              "    </tr>\n",
              "    <tr>\n",
              "      <th>1</th>\n",
              "      <td>1.888450</td>\n",
              "      <td>1.847285</td>\n",
              "      <td>0</td>\n",
              "    </tr>\n",
              "    <tr>\n",
              "      <th>2</th>\n",
              "      <td>-0.672371</td>\n",
              "      <td>-0.926437</td>\n",
              "      <td>0</td>\n",
              "    </tr>\n",
              "    <tr>\n",
              "      <th>3</th>\n",
              "      <td>0.256054</td>\n",
              "      <td>-0.382164</td>\n",
              "      <td>0</td>\n",
              "    </tr>\n",
              "    <tr>\n",
              "      <th>4</th>\n",
              "      <td>-1.126118</td>\n",
              "      <td>-0.593033</td>\n",
              "      <td>0</td>\n",
              "    </tr>\n",
              "    <tr>\n",
              "      <th>...</th>\n",
              "      <td>...</td>\n",
              "      <td>...</td>\n",
              "      <td>...</td>\n",
              "    </tr>\n",
              "    <tr>\n",
              "      <th>895</th>\n",
              "      <td>1.208987</td>\n",
              "      <td>-1.213077</td>\n",
              "      <td>0</td>\n",
              "    </tr>\n",
              "    <tr>\n",
              "      <th>896</th>\n",
              "      <td>-1.589107</td>\n",
              "      <td>1.224198</td>\n",
              "      <td>0</td>\n",
              "    </tr>\n",
              "    <tr>\n",
              "      <th>897</th>\n",
              "      <td>3.001275</td>\n",
              "      <td>1.161777</td>\n",
              "      <td>0</td>\n",
              "    </tr>\n",
              "    <tr>\n",
              "      <th>898</th>\n",
              "      <td>0.116231</td>\n",
              "      <td>-0.668511</td>\n",
              "      <td>0</td>\n",
              "    </tr>\n",
              "    <tr>\n",
              "      <th>899</th>\n",
              "      <td>0.916315</td>\n",
              "      <td>-0.572306</td>\n",
              "      <td>0</td>\n",
              "    </tr>\n",
              "  </tbody>\n",
              "</table>\n",
              "<p>900 rows × 3 columns</p>\n",
              "</div>"
            ],
            "text/plain": [
              "     feature1  feature2  target\n",
              "0   -0.213950  0.197360       0\n",
              "1    1.888450  1.847285       0\n",
              "2   -0.672371 -0.926437       0\n",
              "3    0.256054 -0.382164       0\n",
              "4   -1.126118 -0.593033       0\n",
              "..        ...       ...     ...\n",
              "895  1.208987 -1.213077       0\n",
              "896 -1.589107  1.224198       0\n",
              "897  3.001275  1.161777       0\n",
              "898  0.116231 -0.668511       0\n",
              "899  0.916315 -0.572306       0\n",
              "\n",
              "[900 rows x 3 columns]"
            ]
          },
          "execution_count": 11,
          "metadata": {},
          "output_type": "execute_result"
        }
      ],
      "source": [
        "df_majority"
      ]
    },
    {
      "cell_type": "code",
      "execution_count": 12,
      "metadata": {
        "id": "pOxo_2R-ppuI"
      },
      "outputs": [],
      "source": [
        "# PERFORMING UP-SAMPLING\n",
        "from sklearn.utils import resample # type: ignore"
      ]
    },
    {
      "cell_type": "code",
      "execution_count": 13,
      "metadata": {
        "id": "wGq3yccprh2O"
      },
      "outputs": [],
      "source": [
        "df_minority_upsampled = resample(df_minority, replace = True,  #sample with replacement\n",
        "                                n_samples = len(df_majority),   # to match the sample points\n",
        "                                random_state = 95\n",
        "                                )"
      ]
    },
    {
      "cell_type": "code",
      "execution_count": 14,
      "metadata": {
        "colab": {
          "base_uri": "https://localhost:8080/"
        },
        "id": "Reh3YFBms0Ss",
        "outputId": "2b184ee7-703f-4234-c0d3-813f5afcdd03"
      },
      "outputs": [
        {
          "data": {
            "text/plain": [
              "(900, 3)"
            ]
          },
          "execution_count": 14,
          "metadata": {},
          "output_type": "execute_result"
        }
      ],
      "source": [
        "df_minority_upsampled.shape"
      ]
    },
    {
      "cell_type": "code",
      "execution_count": 15,
      "metadata": {
        "colab": {
          "base_uri": "https://localhost:8080/",
          "height": 147
        },
        "id": "r-tfbUlFs8bM",
        "outputId": "ef06f960-e05c-4c4d-c779-3020e17912d8"
      },
      "outputs": [
        {
          "data": {
            "text/plain": [
              "target\n",
              "1    900\n",
              "Name: count, dtype: int64"
            ]
          },
          "execution_count": 15,
          "metadata": {},
          "output_type": "execute_result"
        }
      ],
      "source": [
        "df_minority_upsampled['target'].value_counts()"
      ]
    },
    {
      "cell_type": "code",
      "execution_count": 16,
      "metadata": {
        "colab": {
          "base_uri": "https://localhost:8080/",
          "height": 423
        },
        "id": "m6CL1xN9s_3v",
        "outputId": "20bf157e-082c-4b97-e31b-90a35a9bdc58"
      },
      "outputs": [
        {
          "data": {
            "text/html": [
              "<div>\n",
              "<style scoped>\n",
              "    .dataframe tbody tr th:only-of-type {\n",
              "        vertical-align: middle;\n",
              "    }\n",
              "\n",
              "    .dataframe tbody tr th {\n",
              "        vertical-align: top;\n",
              "    }\n",
              "\n",
              "    .dataframe thead th {\n",
              "        text-align: right;\n",
              "    }\n",
              "</style>\n",
              "<table border=\"1\" class=\"dataframe\">\n",
              "  <thead>\n",
              "    <tr style=\"text-align: right;\">\n",
              "      <th></th>\n",
              "      <th>feature1</th>\n",
              "      <th>feature2</th>\n",
              "      <th>target</th>\n",
              "    </tr>\n",
              "  </thead>\n",
              "  <tbody>\n",
              "    <tr>\n",
              "      <th>0</th>\n",
              "      <td>-0.213950</td>\n",
              "      <td>0.197360</td>\n",
              "      <td>0</td>\n",
              "    </tr>\n",
              "    <tr>\n",
              "      <th>1</th>\n",
              "      <td>1.888450</td>\n",
              "      <td>1.847285</td>\n",
              "      <td>0</td>\n",
              "    </tr>\n",
              "    <tr>\n",
              "      <th>2</th>\n",
              "      <td>-0.672371</td>\n",
              "      <td>-0.926437</td>\n",
              "      <td>0</td>\n",
              "    </tr>\n",
              "    <tr>\n",
              "      <th>3</th>\n",
              "      <td>0.256054</td>\n",
              "      <td>-0.382164</td>\n",
              "      <td>0</td>\n",
              "    </tr>\n",
              "    <tr>\n",
              "      <th>4</th>\n",
              "      <td>-1.126118</td>\n",
              "      <td>-0.593033</td>\n",
              "      <td>0</td>\n",
              "    </tr>\n",
              "    <tr>\n",
              "      <th>...</th>\n",
              "      <td>...</td>\n",
              "      <td>...</td>\n",
              "      <td>...</td>\n",
              "    </tr>\n",
              "    <tr>\n",
              "      <th>1795</th>\n",
              "      <td>-0.327195</td>\n",
              "      <td>-0.541360</td>\n",
              "      <td>1</td>\n",
              "    </tr>\n",
              "    <tr>\n",
              "      <th>1796</th>\n",
              "      <td>0.723317</td>\n",
              "      <td>-1.048706</td>\n",
              "      <td>1</td>\n",
              "    </tr>\n",
              "    <tr>\n",
              "      <th>1797</th>\n",
              "      <td>-0.787749</td>\n",
              "      <td>-0.414206</td>\n",
              "      <td>1</td>\n",
              "    </tr>\n",
              "    <tr>\n",
              "      <th>1798</th>\n",
              "      <td>0.324814</td>\n",
              "      <td>0.347397</td>\n",
              "      <td>1</td>\n",
              "    </tr>\n",
              "    <tr>\n",
              "      <th>1799</th>\n",
              "      <td>-0.102081</td>\n",
              "      <td>1.922661</td>\n",
              "      <td>1</td>\n",
              "    </tr>\n",
              "  </tbody>\n",
              "</table>\n",
              "<p>1800 rows × 3 columns</p>\n",
              "</div>"
            ],
            "text/plain": [
              "      feature1  feature2  target\n",
              "0    -0.213950  0.197360       0\n",
              "1     1.888450  1.847285       0\n",
              "2    -0.672371 -0.926437       0\n",
              "3     0.256054 -0.382164       0\n",
              "4    -1.126118 -0.593033       0\n",
              "...        ...       ...     ...\n",
              "1795 -0.327195 -0.541360       1\n",
              "1796  0.723317 -1.048706       1\n",
              "1797 -0.787749 -0.414206       1\n",
              "1798  0.324814  0.347397       1\n",
              "1799 -0.102081  1.922661       1\n",
              "\n",
              "[1800 rows x 3 columns]"
            ]
          },
          "execution_count": 16,
          "metadata": {},
          "output_type": "execute_result"
        }
      ],
      "source": [
        "df_upsampled = pd.concat([df_majority, df_minority_upsampled]).reset_index(drop = True)\n",
        "df_upsampled"
      ]
    },
    {
      "cell_type": "code",
      "execution_count": 17,
      "metadata": {
        "colab": {
          "base_uri": "https://localhost:8080/"
        },
        "id": "wb1dtfL9uH79",
        "outputId": "a786aee9-0f55-4139-fa94-bd3cbcbed601"
      },
      "outputs": [
        {
          "data": {
            "text/plain": [
              "(1800, 3)"
            ]
          },
          "execution_count": 17,
          "metadata": {},
          "output_type": "execute_result"
        }
      ],
      "source": [
        "df_upsampled.shape"
      ]
    },
    {
      "cell_type": "code",
      "execution_count": 18,
      "metadata": {},
      "outputs": [
        {
          "name": "stdout",
          "output_type": "stream",
          "text": [
            "Requirement already satisfied: matplotlib in c:\\users\\user\\desktop\\programming journey\\data science genai\\machine learning\\myenv\\lib\\site-packages (3.10.0)\n",
            "Requirement already satisfied: contourpy>=1.0.1 in c:\\users\\user\\desktop\\programming journey\\data science genai\\machine learning\\myenv\\lib\\site-packages (from matplotlib) (1.3.1)\n",
            "Requirement already satisfied: cycler>=0.10 in c:\\users\\user\\desktop\\programming journey\\data science genai\\machine learning\\myenv\\lib\\site-packages (from matplotlib) (0.12.1)\n",
            "Requirement already satisfied: fonttools>=4.22.0 in c:\\users\\user\\desktop\\programming journey\\data science genai\\machine learning\\myenv\\lib\\site-packages (from matplotlib) (4.55.3)\n",
            "Requirement already satisfied: kiwisolver>=1.3.1 in c:\\users\\user\\desktop\\programming journey\\data science genai\\machine learning\\myenv\\lib\\site-packages (from matplotlib) (1.4.8)\n",
            "Requirement already satisfied: numpy>=1.23 in c:\\users\\user\\desktop\\programming journey\\data science genai\\machine learning\\myenv\\lib\\site-packages (from matplotlib) (2.2.1)\n",
            "Requirement already satisfied: packaging>=20.0 in c:\\users\\user\\desktop\\programming journey\\data science genai\\machine learning\\myenv\\lib\\site-packages (from matplotlib) (24.2)\n",
            "Requirement already satisfied: pillow>=8 in c:\\users\\user\\desktop\\programming journey\\data science genai\\machine learning\\myenv\\lib\\site-packages (from matplotlib) (11.1.0)\n",
            "Requirement already satisfied: pyparsing>=2.3.1 in c:\\users\\user\\desktop\\programming journey\\data science genai\\machine learning\\myenv\\lib\\site-packages (from matplotlib) (3.2.1)\n",
            "Requirement already satisfied: python-dateutil>=2.7 in c:\\users\\user\\desktop\\programming journey\\data science genai\\machine learning\\myenv\\lib\\site-packages (from matplotlib) (2.9.0.post0)\n",
            "Requirement already satisfied: six>=1.5 in c:\\users\\user\\desktop\\programming journey\\data science genai\\machine learning\\myenv\\lib\\site-packages (from python-dateutil>=2.7->matplotlib) (1.17.0)\n",
            "Note: you may need to restart the kernel to use updated packages.\n"
          ]
        }
      ],
      "source": [
        "%pip install matplotlib"
      ]
    },
    {
      "cell_type": "code",
      "execution_count": 19,
      "metadata": {},
      "outputs": [
        {
          "data": {
            "text/plain": [
              "<matplotlib.collections.PathCollection at 0x19c9f349070>"
            ]
          },
          "execution_count": 19,
          "metadata": {},
          "output_type": "execute_result"
        },
        {
          "data": {
            "image/png": "[encoded data removed]",
            "text/plain": [
              "<Figure size 640x480 with 1 Axes>"
            ]
          },
          "metadata": {},
          "output_type": "display_data"
        }
      ],
      "source": [
        "import matplotlib.pyplot as plt\n",
        "\n",
        "plt.scatter(x = df_upsampled[\"feature1\"], y = df_upsampled[\"feature2\"], c = df_upsampled['target'])"
      ]
    },
    {
      "cell_type": "code",
      "execution_count": 20,
      "metadata": {
        "colab": {
          "base_uri": "https://localhost:8080/",
          "height": 178
        },
        "id": "NTu7mUk8tpgy",
        "outputId": "257ec400-853c-45fe-e638-5f88e6d37bff"
      },
      "outputs": [
        {
          "data": {
            "text/plain": [
              "target\n",
              "0    900\n",
              "1    900\n",
              "Name: count, dtype: int64"
            ]
          },
          "execution_count": 20,
          "metadata": {},
          "output_type": "execute_result"
        }
      ],
      "source": [
        "df_upsampled['target'].value_counts()"
      ]
    },
    {
      "cell_type": "markdown",
      "metadata": {
        "id": "oLR2-TGityIF"
      },
      "source": [
        "\n",
        "\n",
        "> **Now we have successfully convert the imbalanced data to a balanced data**\n",
        "\n"
      ]
    },
    {
      "cell_type": "markdown",
      "metadata": {
        "id": "IDfCgPa7t_37"
      },
      "source": [
        "### Down-Sampling or Under-Sampling"
      ]
    },
    {
      "cell_type": "code",
      "execution_count": 21,
      "metadata": {
        "id": "2LsHFGflubJ0"
      },
      "outputs": [],
      "source": [
        "df_majority_down_sampled = resample(df_majority,\n",
        "                                    replace = False,      #THIS IS THE MAIN DIFFERENCE. SAMPLE WITHOUT REPLACEMENT, BY THIS WE WILL LOSE DATA\n",
        "                                    n_samples = len(df_minority),\n",
        "                                    random_state = 95\n",
        "                                    )"
      ]
    },
    {
      "cell_type": "code",
      "execution_count": 22,
      "metadata": {
        "colab": {
          "base_uri": "https://localhost:8080/"
        },
        "id": "UpwG-M1mvrJv",
        "outputId": "f6cc7636-f2d4-4488-8361-876db4b9ed8e"
      },
      "outputs": [
        {
          "data": {
            "text/plain": [
              "(100, 3)"
            ]
          },
          "execution_count": 22,
          "metadata": {},
          "output_type": "execute_result"
        }
      ],
      "source": [
        "df_majority_down_sampled.shape # type: ignore"
      ]
    },
    {
      "cell_type": "code",
      "execution_count": 23,
      "metadata": {
        "colab": {
          "base_uri": "https://localhost:8080/",
          "height": 147
        },
        "id": "TH7hubovvzAB",
        "outputId": "7c5b3905-4b19-4567-f3c3-9270fe2b7da4"
      },
      "outputs": [
        {
          "data": {
            "text/plain": [
              "target\n",
              "0    100\n",
              "Name: count, dtype: int64"
            ]
          },
          "execution_count": 23,
          "metadata": {},
          "output_type": "execute_result"
        }
      ],
      "source": [
        "df_majority_down_sampled['target'].value_counts() # type: ignore\n"
      ]
    },
    {
      "cell_type": "code",
      "execution_count": 24,
      "metadata": {
        "colab": {
          "base_uri": "https://localhost:8080/",
          "height": 423
        },
        "id": "1nomn6RIv7We",
        "outputId": "fea2e200-9f24-440d-c44c-dfe8c3a4c5b5"
      },
      "outputs": [
        {
          "data": {
            "text/html": [
              "<div>\n",
              "<style scoped>\n",
              "    .dataframe tbody tr th:only-of-type {\n",
              "        vertical-align: middle;\n",
              "    }\n",
              "\n",
              "    .dataframe tbody tr th {\n",
              "        vertical-align: top;\n",
              "    }\n",
              "\n",
              "    .dataframe thead th {\n",
              "        text-align: right;\n",
              "    }\n",
              "</style>\n",
              "<table border=\"1\" class=\"dataframe\">\n",
              "  <thead>\n",
              "    <tr style=\"text-align: right;\">\n",
              "      <th></th>\n",
              "      <th>feature1</th>\n",
              "      <th>feature2</th>\n",
              "      <th>target</th>\n",
              "    </tr>\n",
              "  </thead>\n",
              "  <tbody>\n",
              "    <tr>\n",
              "      <th>0</th>\n",
              "      <td>0.359624</td>\n",
              "      <td>-1.695110</td>\n",
              "      <td>0</td>\n",
              "    </tr>\n",
              "    <tr>\n",
              "      <th>1</th>\n",
              "      <td>-0.095572</td>\n",
              "      <td>0.047071</td>\n",
              "      <td>0</td>\n",
              "    </tr>\n",
              "    <tr>\n",
              "      <th>2</th>\n",
              "      <td>-0.211263</td>\n",
              "      <td>-1.634589</td>\n",
              "      <td>0</td>\n",
              "    </tr>\n",
              "    <tr>\n",
              "      <th>3</th>\n",
              "      <td>1.208987</td>\n",
              "      <td>-1.213077</td>\n",
              "      <td>0</td>\n",
              "    </tr>\n",
              "    <tr>\n",
              "      <th>4</th>\n",
              "      <td>0.519159</td>\n",
              "      <td>-0.075130</td>\n",
              "      <td>0</td>\n",
              "    </tr>\n",
              "    <tr>\n",
              "      <th>...</th>\n",
              "      <td>...</td>\n",
              "      <td>...</td>\n",
              "      <td>...</td>\n",
              "    </tr>\n",
              "    <tr>\n",
              "      <th>195</th>\n",
              "      <td>0.774179</td>\n",
              "      <td>-0.677380</td>\n",
              "      <td>1</td>\n",
              "    </tr>\n",
              "    <tr>\n",
              "      <th>196</th>\n",
              "      <td>-0.986109</td>\n",
              "      <td>0.568897</td>\n",
              "      <td>1</td>\n",
              "    </tr>\n",
              "    <tr>\n",
              "      <th>197</th>\n",
              "      <td>0.074162</td>\n",
              "      <td>-1.317835</td>\n",
              "      <td>1</td>\n",
              "    </tr>\n",
              "    <tr>\n",
              "      <th>198</th>\n",
              "      <td>-1.490417</td>\n",
              "      <td>-1.334180</td>\n",
              "      <td>1</td>\n",
              "    </tr>\n",
              "    <tr>\n",
              "      <th>199</th>\n",
              "      <td>1.037309</td>\n",
              "      <td>-0.147361</td>\n",
              "      <td>1</td>\n",
              "    </tr>\n",
              "  </tbody>\n",
              "</table>\n",
              "<p>200 rows × 3 columns</p>\n",
              "</div>"
            ],
            "text/plain": [
              "     feature1  feature2  target\n",
              "0    0.359624 -1.695110       0\n",
              "1   -0.095572  0.047071       0\n",
              "2   -0.211263 -1.634589       0\n",
              "3    1.208987 -1.213077       0\n",
              "4    0.519159 -0.075130       0\n",
              "..        ...       ...     ...\n",
              "195  0.774179 -0.677380       1\n",
              "196 -0.986109  0.568897       1\n",
              "197  0.074162 -1.317835       1\n",
              "198 -1.490417 -1.334180       1\n",
              "199  1.037309 -0.147361       1\n",
              "\n",
              "[200 rows x 3 columns]"
            ]
          },
          "execution_count": 24,
          "metadata": {},
          "output_type": "execute_result"
        }
      ],
      "source": [
        "df_downsampled = pd.concat([df_majority_down_sampled, df_minority]).reset_index(drop = True) # type: ignore\n",
        "df_downsampled"
      ]
    },
    {
      "cell_type": "code",
      "execution_count": 25,
      "metadata": {
        "colab": {
          "base_uri": "https://localhost:8080/"
        },
        "id": "IAX08pGcwL8-",
        "outputId": "dbc3d311-9f6c-4baf-e0aa-01dc5018121e"
      },
      "outputs": [
        {
          "data": {
            "text/plain": [
              "(200, 3)"
            ]
          },
          "execution_count": 25,
          "metadata": {},
          "output_type": "execute_result"
        }
      ],
      "source": [
        "df_downsampled.shape"
      ]
    },
    {
      "cell_type": "code",
      "execution_count": 26,
      "metadata": {
        "colab": {
          "base_uri": "https://localhost:8080/",
          "height": 178
        },
        "id": "T_u4P5wQwOyf",
        "outputId": "fa25a58b-cd3a-46eb-a5f3-6884b247047f"
      },
      "outputs": [
        {
          "data": {
            "text/plain": [
              "target\n",
              "0    100\n",
              "1    100\n",
              "Name: count, dtype: int64"
            ]
          },
          "execution_count": 26,
          "metadata": {},
          "output_type": "execute_result"
        }
      ],
      "source": [
        "df_downsampled['target'].value_counts()"
      ]
    },
    {
      "cell_type": "code",
      "execution_count": 27,
      "metadata": {},
      "outputs": [
        {
          "data": {
            "text/plain": [
              "<matplotlib.collections.PathCollection at 0x19c9f380b00>"
            ]
          },
          "execution_count": 27,
          "metadata": {},
          "output_type": "execute_result"
        },
        {
          "data": {
            "image/png": "[encoded data removed]",
            "text/plain": [
              "<Figure size 640x480 with 1 Axes>"
            ]
          },
          "metadata": {},
          "output_type": "display_data"
        }
      ],
      "source": [
        "plt.scatter(x = df_downsampled.feature1 , \n",
        "            y = df_downsampled.feature2 ,\n",
        "            c = df_downsampled.target)"
      ]
    },
    {
      "cell_type": "markdown",
      "metadata": {},
      "source": [
        "## SMOTE"
      ]
    },
    {
      "cell_type": "code",
      "execution_count": null,
      "metadata": {},
      "outputs": [],
      "source": []
    }
  ],
  "metadata": {
    "colab": {
      "provenance": []
    },
    "kernelspec": {
      "display_name": "Python 3",
      "name": "python3"
    },
    "language_info": {
      "codemirror_mode": {
        "name": "ipython",
        "version": 3
      },
      "file_extension": ".py",
      "mimetype": "text/x-python",
      "name": "python",
      "nbconvert_exporter": "python",
      "pygments_lexer": "ipython3",
      "version": "3.12.8"
    }
  },
  "nbformat": 4,
  "nbformat_minor": 0
}
